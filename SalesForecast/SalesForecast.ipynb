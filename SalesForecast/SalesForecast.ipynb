{
  "nbformat": 4,
  "nbformat_minor": 0,
  "metadata": {
    "colab": {
      "name": "SalesForecast.ipynb",
      "provenance": [],
      "authorship_tag": "ABX9TyPNnlLDvwmrEa3a6//LBcUi",
      "include_colab_link": true
    },
    "kernelspec": {
      "name": "python3",
      "display_name": "Python 3"
    },
    "language_info": {
      "name": "python"
    }
  },
  "cells": [
    {
      "cell_type": "markdown",
      "metadata": {
        "id": "view-in-github",
        "colab_type": "text"
      },
      "source": [
        "<a href=\"https://colab.research.google.com/github/mominulhaque666/CSE445.3-Assignment/blob/main/SalesForecast/SalesForecast.ipynb\" target=\"_parent\"><img src=\"https://colab.research.google.com/assets/colab-badge.svg\" alt=\"Open In Colab\"/></a>"
      ]
    },
    {
      "cell_type": "code",
      "metadata": {
        "id": "7-h8Xl_Ii3yB"
      },
      "source": [
        "# Import Libraries\n",
        "\n",
        "import pandas as pd\n",
        "import numpy as np\n",
        "import matplotlib.pyplot as plt\n",
        "\n",
        "import warnings\n",
        "warnings.filterwarnings('ignore')\n",
        "\n",
        "pd.set_option('display.max_columns', 50)"
      ],
      "execution_count": 2,
      "outputs": []
    },
    {
      "cell_type": "code",
      "metadata": {
        "id": "EO0zV7WAkduI"
      },
      "source": [
        "# Upload the model & date wise sales dataset\n",
        "\n",
        "sales = 'https://raw.githubusercontent.com/mominulhaque666/CSE445.3-Assignment/main/SalesForecast/Date%20and%20model%20wise%20sale.csv'"
      ],
      "execution_count": 3,
      "outputs": []
    },
    {
      "cell_type": "code",
      "metadata": {
        "colab": {
          "base_uri": "https://localhost:8080/",
          "height": 402
        },
        "id": "lRIYDsWmkmsy",
        "outputId": "13fce6cf-fd4b-4986-a26d-a7b57ebef4b0"
      },
      "source": [
        "# Read the audit risk dataset\n",
        "\n",
        "sales_df = pd.read_csv(sales)\n",
        "sales_df"
      ],
      "execution_count": 4,
      "outputs": [
        {
          "output_type": "execute_result",
          "data": {
            "text/html": [
              "<div>\n",
              "<style scoped>\n",
              "    .dataframe tbody tr th:only-of-type {\n",
              "        vertical-align: middle;\n",
              "    }\n",
              "\n",
              "    .dataframe tbody tr th {\n",
              "        vertical-align: top;\n",
              "    }\n",
              "\n",
              "    .dataframe thead th {\n",
              "        text-align: right;\n",
              "    }\n",
              "</style>\n",
              "<table border=\"1\" class=\"dataframe\">\n",
              "  <thead>\n",
              "    <tr style=\"text-align: right;\">\n",
              "      <th></th>\n",
              "      <th>Date</th>\n",
              "      <th>Model</th>\n",
              "      <th>Count</th>\n",
              "    </tr>\n",
              "  </thead>\n",
              "  <tbody>\n",
              "    <tr>\n",
              "      <th>0</th>\n",
              "      <td>31-Aug-16</td>\n",
              "      <td>M45</td>\n",
              "      <td>5</td>\n",
              "    </tr>\n",
              "    <tr>\n",
              "      <th>1</th>\n",
              "      <td>31-Aug-16</td>\n",
              "      <td>M121</td>\n",
              "      <td>3</td>\n",
              "    </tr>\n",
              "    <tr>\n",
              "      <th>2</th>\n",
              "      <td>31-Aug-16</td>\n",
              "      <td>M122</td>\n",
              "      <td>4</td>\n",
              "    </tr>\n",
              "    <tr>\n",
              "      <th>3</th>\n",
              "      <td>31-Aug-16</td>\n",
              "      <td>M91</td>\n",
              "      <td>10</td>\n",
              "    </tr>\n",
              "    <tr>\n",
              "      <th>4</th>\n",
              "      <td>31-Aug-16</td>\n",
              "      <td>M66</td>\n",
              "      <td>57</td>\n",
              "    </tr>\n",
              "    <tr>\n",
              "      <th>...</th>\n",
              "      <td>...</td>\n",
              "      <td>...</td>\n",
              "      <td>...</td>\n",
              "    </tr>\n",
              "    <tr>\n",
              "      <th>46111</th>\n",
              "      <td>01-Jan-14</td>\n",
              "      <td>M74</td>\n",
              "      <td>1</td>\n",
              "    </tr>\n",
              "    <tr>\n",
              "      <th>46112</th>\n",
              "      <td>01-Jan-14</td>\n",
              "      <td>M59</td>\n",
              "      <td>1</td>\n",
              "    </tr>\n",
              "    <tr>\n",
              "      <th>46113</th>\n",
              "      <td>01-Jan-14</td>\n",
              "      <td>M60</td>\n",
              "      <td>5</td>\n",
              "    </tr>\n",
              "    <tr>\n",
              "      <th>46114</th>\n",
              "      <td>01-Jan-14</td>\n",
              "      <td>M54</td>\n",
              "      <td>1</td>\n",
              "    </tr>\n",
              "    <tr>\n",
              "      <th>46115</th>\n",
              "      <td>01-Jan-14</td>\n",
              "      <td>M58</td>\n",
              "      <td>1</td>\n",
              "    </tr>\n",
              "  </tbody>\n",
              "</table>\n",
              "<p>46116 rows × 3 columns</p>\n",
              "</div>"
            ],
            "text/plain": [
              "            Date Model  Count\n",
              "0      31-Aug-16   M45      5\n",
              "1      31-Aug-16  M121      3\n",
              "2      31-Aug-16  M122      4\n",
              "3      31-Aug-16   M91     10\n",
              "4      31-Aug-16   M66     57\n",
              "...          ...   ...    ...\n",
              "46111  01-Jan-14   M74      1\n",
              "46112  01-Jan-14   M59      1\n",
              "46113  01-Jan-14   M60      5\n",
              "46114  01-Jan-14   M54      1\n",
              "46115  01-Jan-14   M58      1\n",
              "\n",
              "[46116 rows x 3 columns]"
            ]
          },
          "metadata": {
            "tags": []
          },
          "execution_count": 4
        }
      ]
    }
  ]
}